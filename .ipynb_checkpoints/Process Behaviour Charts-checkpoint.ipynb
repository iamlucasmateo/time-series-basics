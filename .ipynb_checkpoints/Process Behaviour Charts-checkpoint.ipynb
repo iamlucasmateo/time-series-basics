{
 "cells": [
  {
   "cell_type": "code",
   "execution_count": 3,
   "metadata": {},
   "outputs": [],
   "source": [
    "import numpy as np\n",
    "import matplotlib.pyplot as plt\n",
    "import pandas as pd\n",
    "from pandas_datareader import data as wb\n",
    "import warnings\n",
    "warnings.filterwarnings('ignore')"
   ]
  },
  {
   "cell_type": "markdown",
   "metadata": {},
   "source": [
    "### Process Behaviour Charts"
   ]
  },
  {
   "cell_type": "code",
   "execution_count": 166,
   "metadata": {},
   "outputs": [
    {
     "data": {
      "text/html": [
       "<div>\n",
       "<style scoped>\n",
       "    .dataframe tbody tr th:only-of-type {\n",
       "        vertical-align: middle;\n",
       "    }\n",
       "\n",
       "    .dataframe tbody tr th {\n",
       "        vertical-align: top;\n",
       "    }\n",
       "\n",
       "    .dataframe thead th {\n",
       "        text-align: right;\n",
       "    }\n",
       "</style>\n",
       "<table border=\"1\" class=\"dataframe\">\n",
       "  <thead>\n",
       "    <tr style=\"text-align: right;\">\n",
       "      <th></th>\n",
       "      <th>High</th>\n",
       "      <th>Low</th>\n",
       "      <th>Open</th>\n",
       "      <th>Close</th>\n",
       "      <th>Volume</th>\n",
       "      <th>Adj Close</th>\n",
       "    </tr>\n",
       "    <tr>\n",
       "      <th>Date</th>\n",
       "      <th></th>\n",
       "      <th></th>\n",
       "      <th></th>\n",
       "      <th></th>\n",
       "      <th></th>\n",
       "      <th></th>\n",
       "    </tr>\n",
       "  </thead>\n",
       "  <tbody>\n",
       "    <tr>\n",
       "      <td>1995-01-03</td>\n",
       "      <td>15.62500</td>\n",
       "      <td>15.43750</td>\n",
       "      <td>15.46875</td>\n",
       "      <td>15.59375</td>\n",
       "      <td>3318400.0</td>\n",
       "      <td>6.320252</td>\n",
       "    </tr>\n",
       "    <tr>\n",
       "      <td>1995-01-04</td>\n",
       "      <td>15.65625</td>\n",
       "      <td>15.31250</td>\n",
       "      <td>15.53125</td>\n",
       "      <td>15.46875</td>\n",
       "      <td>2218800.0</td>\n",
       "      <td>6.269589</td>\n",
       "    </tr>\n",
       "    <tr>\n",
       "      <td>1995-01-05</td>\n",
       "      <td>15.43750</td>\n",
       "      <td>15.21875</td>\n",
       "      <td>15.37500</td>\n",
       "      <td>15.25000</td>\n",
       "      <td>2319600.0</td>\n",
       "      <td>6.180927</td>\n",
       "    </tr>\n",
       "    <tr>\n",
       "      <td>1995-01-06</td>\n",
       "      <td>15.40625</td>\n",
       "      <td>15.15625</td>\n",
       "      <td>15.15625</td>\n",
       "      <td>15.28125</td>\n",
       "      <td>3438000.0</td>\n",
       "      <td>6.193593</td>\n",
       "    </tr>\n",
       "    <tr>\n",
       "      <td>1995-01-09</td>\n",
       "      <td>15.40625</td>\n",
       "      <td>15.18750</td>\n",
       "      <td>15.34375</td>\n",
       "      <td>15.21875</td>\n",
       "      <td>1795200.0</td>\n",
       "      <td>6.168259</td>\n",
       "    </tr>\n",
       "  </tbody>\n",
       "</table>\n",
       "</div>"
      ],
      "text/plain": [
       "                High       Low      Open     Close     Volume  Adj Close\n",
       "Date                                                                    \n",
       "1995-01-03  15.62500  15.43750  15.46875  15.59375  3318400.0   6.320252\n",
       "1995-01-04  15.65625  15.31250  15.53125  15.46875  2218800.0   6.269589\n",
       "1995-01-05  15.43750  15.21875  15.37500  15.25000  2319600.0   6.180927\n",
       "1995-01-06  15.40625  15.15625  15.15625  15.28125  3438000.0   6.193593\n",
       "1995-01-09  15.40625  15.18750  15.34375  15.21875  1795200.0   6.168259"
      ]
     },
     "execution_count": 166,
     "metadata": {},
     "output_type": "execute_result"
    }
   ],
   "source": [
    "# ejemplo de serie para el chart\n",
    "PG = wb.DataReader('PG',data_source='yahoo',start='1995-1-1')\n",
    "PG.head(5)"
   ]
  },
  {
   "cell_type": "code",
   "execution_count": 167,
   "metadata": {},
   "outputs": [
    {
     "data": {
      "text/plain": [
       "Date\n",
       "1995-01-03        NaN\n",
       "1995-01-04   -0.12500\n",
       "1995-01-05   -0.21875\n",
       "1995-01-06    0.03125\n",
       "1995-01-09   -0.06250\n",
       "Name: Close, dtype: float64"
      ]
     },
     "execution_count": 167,
     "metadata": {},
     "output_type": "execute_result"
    }
   ],
   "source": [
    "serie = PG['Close'] - PG['Close'].shift(1)\n",
    "serie.head()"
   ]
  },
  {
   "cell_type": "code",
   "execution_count": 132,
   "metadata": {},
   "outputs": [],
   "source": [
    "serie_ejemplo = serie[(serie.index.year == 2014) & (serie.index.month.isin([1,2]))]"
   ]
  },
  {
   "cell_type": "code",
   "execution_count": 269,
   "metadata": {},
   "outputs": [],
   "source": [
    "class ControlChart:\n",
    "    \n",
    "    '''class para Control Charts\n",
    "    \n",
    "    Args:\n",
    "        series: pandas Series\n",
    "        center: middle reference line\n",
    "        lower_bound: lower bound\n",
    "        upper_bound: upper bound \n",
    "        \n",
    "    Attributes: \n",
    "        series: pandas Series\n",
    "        center: middle reference line\n",
    "        lower_bound: lower bound\n",
    "        upper_bound: upper bound     \n",
    "    '''\n",
    "    \n",
    "    def __init__(self, series, center, lower_bound, upper_bound):\n",
    "        self.series = series\n",
    "        self.center = center\n",
    "        self.lower_bound = lower_bound\n",
    "        self.upper_bound = upper_bound\n",
    "        \n",
    "    def plot(self, series_color='blue',\n",
    "             marker='o', bounds_color='black',\n",
    "             center_color='red', figsize=(15,6),\n",
    "             title='', xlabel='', ylabel=''):\n",
    "        \n",
    "        '''\n",
    "        Plots chart\n",
    "        \n",
    "        '''\n",
    "        \n",
    "        plt.figure(figsize=figsize) \n",
    "        plt.plot(self.series.values,color=series_color,marker=marker)\n",
    "        lower_line = np.ones(self.series.shape[0]) * self.lower_bound\n",
    "        plt.plot(lower_line,color=bounds_color)\n",
    "        upper_line = np.ones(self.series.shape[0]) * self.upper_bound\n",
    "        plt.plot(upper_line,color=bounds_color)\n",
    "        center_line = np.ones(self.series.shape[0]) * self.center\n",
    "        plt.plot(center_line,color=center_color)\n",
    "        plt.xlabel(xlabel)\n",
    "        plt.ylabel(ylabel)\n",
    "        plt.title(title)\n",
    "        plt.show()\n",
    "    \n",
    "    def deviations(self):\n",
    "        '''\n",
    "        Shows deviations from bounds as a dataframe\n",
    "        \n",
    "        '''\n",
    "        deviation_index = []\n",
    "        deviation_value = []\n",
    "        deviation_direction = []\n",
    "        deviation_size = []\n",
    "        for i in self.series.index:\n",
    "            if self.series[i] > self.upper_bound:\n",
    "                deviation_index.append(i)\n",
    "                deviation_value.append(self.series[i])\n",
    "                deviation_direction.append('excess')\n",
    "                deviation_size.append(self.series[i] - self.upper_bound)\n",
    "            \n",
    "            if self.series[i] < self.lower_bound:\n",
    "                deviation_index.append(i)\n",
    "                deviation_value.append(self.series[i])\n",
    "                deviation_direction.append('defect')\n",
    "                deviation_size.append(self.lower_bound - self.series[i])\n",
    "        \n",
    "        df = pd.DataFrame({'index': deviation_index,\n",
    "                          'value': deviation_value,\n",
    "                          'sign': deviation_direction,\n",
    "                          'size': deviation_size})\n",
    "        return df"
   ]
  },
  {
   "cell_type": "code",
   "execution_count": 271,
   "metadata": {},
   "outputs": [],
   "source": [
    "center = np.mean(serie_ejemplo)\n",
    "lower_bound = np.mean(serie_ejemplo) - 1 * np.std(serie_ejemplo)\n",
    "upper_bound = np.mean(serie_ejemplo) + 1 * np.std(serie_ejemplo)\n",
    "chart_ejemplo = ControlChart(serie_ejemplo,center=center,lower_bound=lower_bound,upper_bound=upper_bound)"
   ]
  },
  {
   "cell_type": "code",
   "execution_count": 272,
   "metadata": {},
   "outputs": [
    {
     "data": {
      "text/plain": [
       "-0.06875"
      ]
     },
     "execution_count": 272,
     "metadata": {},
     "output_type": "execute_result"
    }
   ],
   "source": [
    "chart_ejemplo.center"
   ]
  },
  {
   "cell_type": "code",
   "execution_count": 273,
   "metadata": {},
   "outputs": [
    {
     "data": {
      "image/png": "[encoded data removed]",
      "text/plain": [
       "<Figure size 1080x432 with 1 Axes>"
      ]
     },
     "metadata": {
      "needs_background": "light"
     },
     "output_type": "display_data"
    }
   ],
   "source": [
    "chart_ejemplo.plot(title='Control Chart Example',\n",
    "                  xlabel = 'X Label',\n",
    "                  ylabel = 'Y Label')"
   ]
  },
  {
   "cell_type": "code",
   "execution_count": 258,
   "metadata": {},
   "outputs": [
    {
     "data": {
      "text/html": [
       "<div>\n",
       "<style scoped>\n",
       "    .dataframe tbody tr th:only-of-type {\n",
       "        vertical-align: middle;\n",
       "    }\n",
       "\n",
       "    .dataframe tbody tr th {\n",
       "        vertical-align: top;\n",
       "    }\n",
       "\n",
       "    .dataframe thead th {\n",
       "        text-align: right;\n",
       "    }\n",
       "</style>\n",
       "<table border=\"1\" class=\"dataframe\">\n",
       "  <thead>\n",
       "    <tr style=\"text-align: right;\">\n",
       "      <th></th>\n",
       "      <th>index</th>\n",
       "      <th>value</th>\n",
       "      <th>sign</th>\n",
       "      <th>size</th>\n",
       "    </tr>\n",
       "  </thead>\n",
       "  <tbody>\n",
       "    <tr>\n",
       "      <td>0</td>\n",
       "      <td>2014-01-02</td>\n",
       "      <td>-0.870003</td>\n",
       "      <td>defect</td>\n",
       "      <td>0.088076</td>\n",
       "    </tr>\n",
       "    <tr>\n",
       "      <td>1</td>\n",
       "      <td>2014-01-07</td>\n",
       "      <td>0.779999</td>\n",
       "      <td>excess</td>\n",
       "      <td>0.135572</td>\n",
       "    </tr>\n",
       "    <tr>\n",
       "      <td>2</td>\n",
       "      <td>2014-01-08</td>\n",
       "      <td>-1.180000</td>\n",
       "      <td>defect</td>\n",
       "      <td>0.398073</td>\n",
       "    </tr>\n",
       "    <tr>\n",
       "      <td>3</td>\n",
       "      <td>2014-01-14</td>\n",
       "      <td>0.860001</td>\n",
       "      <td>excess</td>\n",
       "      <td>0.215574</td>\n",
       "    </tr>\n",
       "    <tr>\n",
       "      <td>4</td>\n",
       "      <td>2014-01-22</td>\n",
       "      <td>-0.949997</td>\n",
       "      <td>defect</td>\n",
       "      <td>0.168070</td>\n",
       "    </tr>\n",
       "    <tr>\n",
       "      <td>5</td>\n",
       "      <td>2014-01-23</td>\n",
       "      <td>-0.990005</td>\n",
       "      <td>defect</td>\n",
       "      <td>0.208078</td>\n",
       "    </tr>\n",
       "    <tr>\n",
       "      <td>6</td>\n",
       "      <td>2014-01-24</td>\n",
       "      <td>0.940002</td>\n",
       "      <td>excess</td>\n",
       "      <td>0.295575</td>\n",
       "    </tr>\n",
       "    <tr>\n",
       "      <td>7</td>\n",
       "      <td>2014-01-29</td>\n",
       "      <td>-1.470001</td>\n",
       "      <td>defect</td>\n",
       "      <td>0.688074</td>\n",
       "    </tr>\n",
       "    <tr>\n",
       "      <td>8</td>\n",
       "      <td>2014-02-03</td>\n",
       "      <td>-0.920006</td>\n",
       "      <td>defect</td>\n",
       "      <td>0.138079</td>\n",
       "    </tr>\n",
       "    <tr>\n",
       "      <td>9</td>\n",
       "      <td>2014-02-10</td>\n",
       "      <td>0.720001</td>\n",
       "      <td>excess</td>\n",
       "      <td>0.075574</td>\n",
       "    </tr>\n",
       "    <tr>\n",
       "      <td>10</td>\n",
       "      <td>2014-02-11</td>\n",
       "      <td>0.809998</td>\n",
       "      <td>excess</td>\n",
       "      <td>0.165570</td>\n",
       "    </tr>\n",
       "    <tr>\n",
       "      <td>11</td>\n",
       "      <td>2014-02-12</td>\n",
       "      <td>-1.349998</td>\n",
       "      <td>defect</td>\n",
       "      <td>0.568071</td>\n",
       "    </tr>\n",
       "    <tr>\n",
       "      <td>12</td>\n",
       "      <td>2014-02-14</td>\n",
       "      <td>1.599998</td>\n",
       "      <td>excess</td>\n",
       "      <td>0.955571</td>\n",
       "    </tr>\n",
       "    <tr>\n",
       "      <td>13</td>\n",
       "      <td>2014-02-18</td>\n",
       "      <td>-1.430000</td>\n",
       "      <td>defect</td>\n",
       "      <td>0.648073</td>\n",
       "    </tr>\n",
       "  </tbody>\n",
       "</table>\n",
       "</div>"
      ],
      "text/plain": [
       "        index     value    sign      size\n",
       "0  2014-01-02 -0.870003  defect  0.088076\n",
       "1  2014-01-07  0.779999  excess  0.135572\n",
       "2  2014-01-08 -1.180000  defect  0.398073\n",
       "3  2014-01-14  0.860001  excess  0.215574\n",
       "4  2014-01-22 -0.949997  defect  0.168070\n",
       "5  2014-01-23 -0.990005  defect  0.208078\n",
       "6  2014-01-24  0.940002  excess  0.295575\n",
       "7  2014-01-29 -1.470001  defect  0.688074\n",
       "8  2014-02-03 -0.920006  defect  0.138079\n",
       "9  2014-02-10  0.720001  excess  0.075574\n",
       "10 2014-02-11  0.809998  excess  0.165570\n",
       "11 2014-02-12 -1.349998  defect  0.568071\n",
       "12 2014-02-14  1.599998  excess  0.955571\n",
       "13 2014-02-18 -1.430000  defect  0.648073"
      ]
     },
     "execution_count": 258,
     "metadata": {},
     "output_type": "execute_result"
    }
   ],
   "source": [
    "deviations = chart_ejemplo.deviations()\n",
    "deviations"
   ]
  },
  {
   "cell_type": "markdown",
   "metadata": {},
   "source": [
    "### penal_df"
   ]
  },
  {
   "cell_type": "code",
   "execution_count": 172,
   "metadata": {},
   "outputs": [],
   "source": [
    "df = pd.read_excel('penal_df_fec.xlsx')\n",
    "# transformo la columna a datetime\n",
    "# columna: Fecha de registro en el juzgado\n",
    "df['exp_fecreg'] = pd.to_datetime(df['exp_fecreg'])"
   ]
  },
  {
   "cell_type": "code",
   "execution_count": 185,
   "metadata": {},
   "outputs": [],
   "source": [
    "# convierto 'unknown' en NaN para contabilizar\n",
    "import itertools as it\n",
    "for i, col in it.product(df.index,df.columns):\n",
    "    if df.at[i,col] == 'unknown':\n",
    "        df.at[i,col] = np.nan"
   ]
  },
  {
   "cell_type": "code",
   "execution_count": 186,
   "metadata": {},
   "outputs": [
    {
     "data": {
      "text/html": [
       "<div>\n",
       "<style scoped>\n",
       "    .dataframe tbody tr th:only-of-type {\n",
       "        vertical-align: middle;\n",
       "    }\n",
       "\n",
       "    .dataframe tbody tr th {\n",
       "        vertical-align: top;\n",
       "    }\n",
       "\n",
       "    .dataframe thead th {\n",
       "        text-align: right;\n",
       "    }\n",
       "</style>\n",
       "<table border=\"1\" class=\"dataframe\">\n",
       "  <thead>\n",
       "    <tr style=\"text-align: right;\">\n",
       "      <th></th>\n",
       "      <th>org_idradactual</th>\n",
       "      <th>exp_cuij</th>\n",
       "      <th>org_idintpri</th>\n",
       "      <th>org_cod_pri</th>\n",
       "      <th>org_descorta_pri</th>\n",
       "      <th>org_descr_Pri</th>\n",
       "      <th>exp_fecreg</th>\n",
       "    </tr>\n",
       "  </thead>\n",
       "  <tbody>\n",
       "    <tr>\n",
       "      <td>0</td>\n",
       "      <td>72</td>\n",
       "      <td>01-00042685-3</td>\n",
       "      <td>72</td>\n",
       "      <td>JUZP01</td>\n",
       "      <td>JUZGADO N°1</td>\n",
       "      <td>JUZGADO DE 1RA INSTANCIA EN LO PENAL CONTRAVEN...</td>\n",
       "      <td>2016-07-26 13:45:00</td>\n",
       "    </tr>\n",
       "    <tr>\n",
       "      <td>1</td>\n",
       "      <td>72</td>\n",
       "      <td>01-00039012-3</td>\n",
       "      <td>72</td>\n",
       "      <td>JUZP01</td>\n",
       "      <td>JUZGADO N°1</td>\n",
       "      <td>JUZGADO DE 1RA INSTANCIA EN LO PENAL CONTRAVEN...</td>\n",
       "      <td>2016-05-19 15:40:00</td>\n",
       "    </tr>\n",
       "    <tr>\n",
       "      <td>2</td>\n",
       "      <td>72</td>\n",
       "      <td>01-00035028-8</td>\n",
       "      <td>72</td>\n",
       "      <td>JUZP01</td>\n",
       "      <td>JUZGADO N°1</td>\n",
       "      <td>JUZGADO DE 1RA INSTANCIA EN LO PENAL CONTRAVEN...</td>\n",
       "      <td>2016-03-03 09:40:00</td>\n",
       "    </tr>\n",
       "    <tr>\n",
       "      <td>3</td>\n",
       "      <td>72</td>\n",
       "      <td>01-00036824-1</td>\n",
       "      <td>72</td>\n",
       "      <td>JUZP01</td>\n",
       "      <td>JUZGADO N°1</td>\n",
       "      <td>JUZGADO DE 1RA INSTANCIA EN LO PENAL CONTRAVEN...</td>\n",
       "      <td>2016-08-04 12:20:00</td>\n",
       "    </tr>\n",
       "    <tr>\n",
       "      <td>4</td>\n",
       "      <td>72</td>\n",
       "      <td>01-00034124-6</td>\n",
       "      <td>72</td>\n",
       "      <td>JUZP01</td>\n",
       "      <td>JUZGADO N°1</td>\n",
       "      <td>JUZGADO DE 1RA INSTANCIA EN LO PENAL CONTRAVEN...</td>\n",
       "      <td>2016-02-15 10:25:00</td>\n",
       "    </tr>\n",
       "  </tbody>\n",
       "</table>\n",
       "</div>"
      ],
      "text/plain": [
       "   org_idradactual       exp_cuij  org_idintpri org_cod_pri org_descorta_pri  \\\n",
       "0               72  01-00042685-3            72      JUZP01      JUZGADO N°1   \n",
       "1               72  01-00039012-3            72      JUZP01      JUZGADO N°1   \n",
       "2               72  01-00035028-8            72      JUZP01      JUZGADO N°1   \n",
       "3               72  01-00036824-1            72      JUZP01      JUZGADO N°1   \n",
       "4               72  01-00034124-6            72      JUZP01      JUZGADO N°1   \n",
       "\n",
       "                                       org_descr_Pri          exp_fecreg  \n",
       "0  JUZGADO DE 1RA INSTANCIA EN LO PENAL CONTRAVEN... 2016-07-26 13:45:00  \n",
       "1  JUZGADO DE 1RA INSTANCIA EN LO PENAL CONTRAVEN... 2016-05-19 15:40:00  \n",
       "2  JUZGADO DE 1RA INSTANCIA EN LO PENAL CONTRAVEN... 2016-03-03 09:40:00  \n",
       "3  JUZGADO DE 1RA INSTANCIA EN LO PENAL CONTRAVEN... 2016-08-04 12:20:00  \n",
       "4  JUZGADO DE 1RA INSTANCIA EN LO PENAL CONTRAVEN... 2016-02-15 10:25:00  "
      ]
     },
     "execution_count": 186,
     "metadata": {},
     "output_type": "execute_result"
    }
   ],
   "source": [
    "df.iloc[0:5,[0,1,2,3,4,5,18]]"
   ]
  },
  {
   "cell_type": "code",
   "execution_count": 192,
   "metadata": {},
   "outputs": [
    {
     "name": "stdout",
     "output_type": "stream",
     "text": [
      "Total causas: 37136\n"
     ]
    }
   ],
   "source": [
    "print('Total causas: {}'.format(df.shape[0]))"
   ]
  },
  {
   "cell_type": "markdown",
   "metadata": {},
   "source": [
    "### Groupby fecha"
   ]
  },
  {
   "cell_type": "markdown",
   "metadata": {},
   "source": [
    "AXEL: Acá paso a pandas el laburo de agrupación / pivot que hiciste en Excel. Lo hago en tres pasos:\n",
    "(1) Agrupo la cantidad de causas por Juzgado y por período de tiempo (que puede ser mensual, quincenal, semanal, etc). En pandas lo hacemos con .groupby para los Juzgados y por .resample para el período de tiempo. Chequeo.\n",
    "\n",
    "(2) Lo llevo a porcentajes, para sumo el total de causas en un período y divido cada juzgado por el total. Chequeo.\n",
    "\n",
    "(3) Una vez que tenemos los datos agrupados, podemos usar nuestra class ControlChart para plotear / estudiar las desviaciones. Esto debería ser igual a tus charts, HAY QUE CHEQUEAR EL CALCULO DE LOWER Y UPPER BOUNDS."
   ]
  },
  {
   "cell_type": "code",
   "execution_count": 207,
   "metadata": {},
   "outputs": [
    {
     "data": {
      "text/html": [
       "<div>\n",
       "<style scoped>\n",
       "    .dataframe tbody tr th:only-of-type {\n",
       "        vertical-align: middle;\n",
       "    }\n",
       "\n",
       "    .dataframe tbody tr th {\n",
       "        vertical-align: top;\n",
       "    }\n",
       "\n",
       "    .dataframe thead th {\n",
       "        text-align: right;\n",
       "    }\n",
       "</style>\n",
       "<table border=\"1\" class=\"dataframe\">\n",
       "  <thead>\n",
       "    <tr style=\"text-align: right;\">\n",
       "      <th></th>\n",
       "      <th>juzgado</th>\n",
       "      <th>periodo</th>\n",
       "      <th>causas</th>\n",
       "    </tr>\n",
       "  </thead>\n",
       "  <tbody>\n",
       "    <tr>\n",
       "      <td>0</td>\n",
       "      <td>JUZP01</td>\n",
       "      <td>2016-01-31</td>\n",
       "      <td>9</td>\n",
       "    </tr>\n",
       "    <tr>\n",
       "      <td>1</td>\n",
       "      <td>JUZP01</td>\n",
       "      <td>2016-02-29</td>\n",
       "      <td>30</td>\n",
       "    </tr>\n",
       "    <tr>\n",
       "      <td>2</td>\n",
       "      <td>JUZP01</td>\n",
       "      <td>2016-03-31</td>\n",
       "      <td>32</td>\n",
       "    </tr>\n",
       "    <tr>\n",
       "      <td>3</td>\n",
       "      <td>JUZP01</td>\n",
       "      <td>2016-04-30</td>\n",
       "      <td>15</td>\n",
       "    </tr>\n",
       "    <tr>\n",
       "      <td>4</td>\n",
       "      <td>JUZP01</td>\n",
       "      <td>2016-05-31</td>\n",
       "      <td>48</td>\n",
       "    </tr>\n",
       "  </tbody>\n",
       "</table>\n",
       "</div>"
      ],
      "text/plain": [
       "  juzgado    periodo  causas\n",
       "0  JUZP01 2016-01-31       9\n",
       "1  JUZP01 2016-02-29      30\n",
       "2  JUZP01 2016-03-31      32\n",
       "3  JUZP01 2016-04-30      15\n",
       "4  JUZP01 2016-05-31      48"
      ]
     },
     "execution_count": 207,
     "metadata": {},
     "output_type": "execute_result"
    }
   ],
   "source": [
    "# agrupo por Juzgado\n",
    "df_month = df.groupby('org_cod_pri')\n",
    "# agrupo por Mes\n",
    "df_month = df_month.resample('M',on='exp_fecreg').count()['exp_cuij']\n",
    "# lo llevo a dataframe\n",
    "df_month = df_month.to_frame()\n",
    "df_month = df_month.reset_index(drop=False)\n",
    "# rename\n",
    "df_month = df_month.rename({'org_cod_pri':'juzgado',\n",
    "                            'exp_fecreg':'periodo',\n",
    "                            'exp_cuij':'causas'},axis=1,)\n",
    "df_month.head()"
   ]
  },
  {
   "cell_type": "code",
   "execution_count": 213,
   "metadata": {},
   "outputs": [
    {
     "data": {
      "text/plain": [
       "37136"
      ]
     },
     "execution_count": 213,
     "metadata": {},
     "output_type": "execute_result"
    }
   ],
   "source": [
    "# Check\n",
    "np.sum(df_month['causas'])"
   ]
  },
  {
   "cell_type": "code",
   "execution_count": 231,
   "metadata": {},
   "outputs": [
    {
     "data": {
      "text/html": [
       "<div>\n",
       "<style scoped>\n",
       "    .dataframe tbody tr th:only-of-type {\n",
       "        vertical-align: middle;\n",
       "    }\n",
       "\n",
       "    .dataframe tbody tr th {\n",
       "        vertical-align: top;\n",
       "    }\n",
       "\n",
       "    .dataframe thead th {\n",
       "        text-align: right;\n",
       "    }\n",
       "</style>\n",
       "<table border=\"1\" class=\"dataframe\">\n",
       "  <thead>\n",
       "    <tr style=\"text-align: right;\">\n",
       "      <th></th>\n",
       "      <th>causas</th>\n",
       "      <th>porcentaje</th>\n",
       "    </tr>\n",
       "    <tr>\n",
       "      <th>periodo</th>\n",
       "      <th></th>\n",
       "      <th></th>\n",
       "    </tr>\n",
       "  </thead>\n",
       "  <tbody>\n",
       "    <tr>\n",
       "      <td>2016-01-31</td>\n",
       "      <td>502</td>\n",
       "      <td>100.0</td>\n",
       "    </tr>\n",
       "    <tr>\n",
       "      <td>2016-02-29</td>\n",
       "      <td>614</td>\n",
       "      <td>100.0</td>\n",
       "    </tr>\n",
       "    <tr>\n",
       "      <td>2016-03-31</td>\n",
       "      <td>630</td>\n",
       "      <td>100.0</td>\n",
       "    </tr>\n",
       "    <tr>\n",
       "      <td>2016-04-30</td>\n",
       "      <td>683</td>\n",
       "      <td>100.0</td>\n",
       "    </tr>\n",
       "    <tr>\n",
       "      <td>2016-05-31</td>\n",
       "      <td>580</td>\n",
       "      <td>100.0</td>\n",
       "    </tr>\n",
       "  </tbody>\n",
       "</table>\n",
       "</div>"
      ],
      "text/plain": [
       "            causas  porcentaje\n",
       "periodo                       \n",
       "2016-01-31     502       100.0\n",
       "2016-02-29     614       100.0\n",
       "2016-03-31     630       100.0\n",
       "2016-04-30     683       100.0\n",
       "2016-05-31     580       100.0"
      ]
     },
     "execution_count": 231,
     "metadata": {},
     "output_type": "execute_result"
    }
   ],
   "source": [
    "# Totales por mes\n",
    "df_month_totales = df_month.groupby('periodo').sum()\n",
    "df_month_totales.head()"
   ]
  },
  {
   "cell_type": "code",
   "execution_count": 232,
   "metadata": {},
   "outputs": [
    {
     "data": {
      "text/html": [
       "<div>\n",
       "<style scoped>\n",
       "    .dataframe tbody tr th:only-of-type {\n",
       "        vertical-align: middle;\n",
       "    }\n",
       "\n",
       "    .dataframe tbody tr th {\n",
       "        vertical-align: top;\n",
       "    }\n",
       "\n",
       "    .dataframe thead th {\n",
       "        text-align: right;\n",
       "    }\n",
       "</style>\n",
       "<table border=\"1\" class=\"dataframe\">\n",
       "  <thead>\n",
       "    <tr style=\"text-align: right;\">\n",
       "      <th></th>\n",
       "      <th>juzgado</th>\n",
       "      <th>periodo</th>\n",
       "      <th>causas</th>\n",
       "      <th>porcentaje</th>\n",
       "    </tr>\n",
       "  </thead>\n",
       "  <tbody>\n",
       "    <tr>\n",
       "      <td>0</td>\n",
       "      <td>JUZP01</td>\n",
       "      <td>2016-01-31</td>\n",
       "      <td>9</td>\n",
       "      <td>1.792829</td>\n",
       "    </tr>\n",
       "    <tr>\n",
       "      <td>1</td>\n",
       "      <td>JUZP01</td>\n",
       "      <td>2016-02-29</td>\n",
       "      <td>30</td>\n",
       "      <td>4.885993</td>\n",
       "    </tr>\n",
       "    <tr>\n",
       "      <td>2</td>\n",
       "      <td>JUZP01</td>\n",
       "      <td>2016-03-31</td>\n",
       "      <td>32</td>\n",
       "      <td>5.079365</td>\n",
       "    </tr>\n",
       "    <tr>\n",
       "      <td>3</td>\n",
       "      <td>JUZP01</td>\n",
       "      <td>2016-04-30</td>\n",
       "      <td>15</td>\n",
       "      <td>2.196193</td>\n",
       "    </tr>\n",
       "    <tr>\n",
       "      <td>4</td>\n",
       "      <td>JUZP01</td>\n",
       "      <td>2016-05-31</td>\n",
       "      <td>48</td>\n",
       "      <td>8.275862</td>\n",
       "    </tr>\n",
       "  </tbody>\n",
       "</table>\n",
       "</div>"
      ],
      "text/plain": [
       "  juzgado    periodo  causas  porcentaje\n",
       "0  JUZP01 2016-01-31       9    1.792829\n",
       "1  JUZP01 2016-02-29      30    4.885993\n",
       "2  JUZP01 2016-03-31      32    5.079365\n",
       "3  JUZP01 2016-04-30      15    2.196193\n",
       "4  JUZP01 2016-05-31      48    8.275862"
      ]
     },
     "execution_count": 232,
     "metadata": {},
     "output_type": "execute_result"
    }
   ],
   "source": [
    "# Porcentajes\n",
    "for i in df_month.index:\n",
    "    periodo = df_month.at[i,'periodo']\n",
    "    causas_totales = df_month_totales.loc[periodo]['causas']\n",
    "    df_month.at[i,'porcentaje'] = df_month.at[i,'causas'] / causas_totales\n",
    "    df_month.at[i,'porcentaje'] = df_month.at[i,'porcentaje'] * 100\n",
    "\n",
    "df_month.head()"
   ]
  },
  {
   "cell_type": "code",
   "execution_count": 233,
   "metadata": {},
   "outputs": [
    {
     "data": {
      "text/html": [
       "<div>\n",
       "<style scoped>\n",
       "    .dataframe tbody tr th:only-of-type {\n",
       "        vertical-align: middle;\n",
       "    }\n",
       "\n",
       "    .dataframe tbody tr th {\n",
       "        vertical-align: top;\n",
       "    }\n",
       "\n",
       "    .dataframe thead th {\n",
       "        text-align: right;\n",
       "    }\n",
       "</style>\n",
       "<table border=\"1\" class=\"dataframe\">\n",
       "  <thead>\n",
       "    <tr style=\"text-align: right;\">\n",
       "      <th></th>\n",
       "      <th>causas</th>\n",
       "      <th>porcentaje</th>\n",
       "    </tr>\n",
       "    <tr>\n",
       "      <th>periodo</th>\n",
       "      <th></th>\n",
       "      <th></th>\n",
       "    </tr>\n",
       "  </thead>\n",
       "  <tbody>\n",
       "    <tr>\n",
       "      <td>2016-01-31</td>\n",
       "      <td>502</td>\n",
       "      <td>100.0</td>\n",
       "    </tr>\n",
       "    <tr>\n",
       "      <td>2016-02-29</td>\n",
       "      <td>614</td>\n",
       "      <td>100.0</td>\n",
       "    </tr>\n",
       "    <tr>\n",
       "      <td>2016-03-31</td>\n",
       "      <td>630</td>\n",
       "      <td>100.0</td>\n",
       "    </tr>\n",
       "    <tr>\n",
       "      <td>2016-04-30</td>\n",
       "      <td>683</td>\n",
       "      <td>100.0</td>\n",
       "    </tr>\n",
       "    <tr>\n",
       "      <td>2016-05-31</td>\n",
       "      <td>580</td>\n",
       "      <td>100.0</td>\n",
       "    </tr>\n",
       "  </tbody>\n",
       "</table>\n",
       "</div>"
      ],
      "text/plain": [
       "            causas  porcentaje\n",
       "periodo                       \n",
       "2016-01-31     502       100.0\n",
       "2016-02-29     614       100.0\n",
       "2016-03-31     630       100.0\n",
       "2016-04-30     683       100.0\n",
       "2016-05-31     580       100.0"
      ]
     },
     "execution_count": 233,
     "metadata": {},
     "output_type": "execute_result"
    }
   ],
   "source": [
    "# Check\n",
    "# Totales por mes\n",
    "df_month_check = df_month.groupby('periodo').sum()\n",
    "df_month_check.head()"
   ]
  },
  {
   "cell_type": "code",
   "execution_count": 242,
   "metadata": {},
   "outputs": [
    {
     "name": "stdout",
     "output_type": "stream",
     "text": [
      "Check OK!\n"
     ]
    }
   ],
   "source": [
    "for i in df_month_check.index:\n",
    "    diff = abs(df_month_check.at[i,'porcentaje'] - 100)\n",
    "    if diff > 0.000000001:\n",
    "        print('Check row {}'.format(i))\n",
    "else:\n",
    "    print('Check OK!')"
   ]
  },
  {
   "cell_type": "markdown",
   "metadata": {},
   "source": [
    "Ahora sí, tengo los porcentajes agrupados por período y por juzgado, puedo construir la series para pasarle al ControlChart. "
   ]
  },
  {
   "cell_type": "code",
   "execution_count": 244,
   "metadata": {},
   "outputs": [
    {
     "data": {
      "text/html": [
       "<div>\n",
       "<style scoped>\n",
       "    .dataframe tbody tr th:only-of-type {\n",
       "        vertical-align: middle;\n",
       "    }\n",
       "\n",
       "    .dataframe tbody tr th {\n",
       "        vertical-align: top;\n",
       "    }\n",
       "\n",
       "    .dataframe thead th {\n",
       "        text-align: right;\n",
       "    }\n",
       "</style>\n",
       "<table border=\"1\" class=\"dataframe\">\n",
       "  <thead>\n",
       "    <tr style=\"text-align: right;\">\n",
       "      <th></th>\n",
       "      <th>juzgado</th>\n",
       "      <th>periodo</th>\n",
       "      <th>causas</th>\n",
       "      <th>porcentaje</th>\n",
       "    </tr>\n",
       "  </thead>\n",
       "  <tbody>\n",
       "    <tr>\n",
       "      <td>0</td>\n",
       "      <td>JUZP01</td>\n",
       "      <td>2016-01-31</td>\n",
       "      <td>9</td>\n",
       "      <td>1.792829</td>\n",
       "    </tr>\n",
       "    <tr>\n",
       "      <td>1</td>\n",
       "      <td>JUZP01</td>\n",
       "      <td>2016-02-29</td>\n",
       "      <td>30</td>\n",
       "      <td>4.885993</td>\n",
       "    </tr>\n",
       "    <tr>\n",
       "      <td>2</td>\n",
       "      <td>JUZP01</td>\n",
       "      <td>2016-03-31</td>\n",
       "      <td>32</td>\n",
       "      <td>5.079365</td>\n",
       "    </tr>\n",
       "    <tr>\n",
       "      <td>3</td>\n",
       "      <td>JUZP01</td>\n",
       "      <td>2016-04-30</td>\n",
       "      <td>15</td>\n",
       "      <td>2.196193</td>\n",
       "    </tr>\n",
       "    <tr>\n",
       "      <td>4</td>\n",
       "      <td>JUZP01</td>\n",
       "      <td>2016-05-31</td>\n",
       "      <td>48</td>\n",
       "      <td>8.275862</td>\n",
       "    </tr>\n",
       "  </tbody>\n",
       "</table>\n",
       "</div>"
      ],
      "text/plain": [
       "  juzgado    periodo  causas  porcentaje\n",
       "0  JUZP01 2016-01-31       9    1.792829\n",
       "1  JUZP01 2016-02-29      30    4.885993\n",
       "2  JUZP01 2016-03-31      32    5.079365\n",
       "3  JUZP01 2016-04-30      15    2.196193\n",
       "4  JUZP01 2016-05-31      48    8.275862"
      ]
     },
     "execution_count": 244,
     "metadata": {},
     "output_type": "execute_result"
    }
   ],
   "source": [
    "# Ejemplo\n",
    "juz1_2016 = df_month[(df_month['periodo'].dt.year == 2016) & (df_month['juzgado'] == 'JUZP01')]\n",
    "juz1_2016.head()"
   ]
  },
  {
   "cell_type": "code",
   "execution_count": 250,
   "metadata": {},
   "outputs": [],
   "source": [
    "series_juz1_2016 = pd.Series(data = juz1_2016['porcentaje'].values,\n",
    "                            index = juz1_2016['periodo'].values)"
   ]
  },
  {
   "cell_type": "code",
   "execution_count": 251,
   "metadata": {},
   "outputs": [
    {
     "data": {
      "text/plain": [
       "2016-01-31    1.792829\n",
       "2016-02-29    4.885993\n",
       "2016-03-31    5.079365\n",
       "2016-04-30    2.196193\n",
       "2016-05-31    8.275862\n",
       "dtype: float64"
      ]
     },
     "execution_count": 251,
     "metadata": {},
     "output_type": "execute_result"
    }
   ],
   "source": [
    "series_juz1_2016.head()"
   ]
  },
  {
   "cell_type": "code",
   "execution_count": 275,
   "metadata": {},
   "outputs": [],
   "source": [
    "# AXEL: estas cuentas hay que chequear, no estoy seguro las fórmulas\n",
    "# Yo usé el formato típico de intervalo de confianza\n",
    "center = np.mean(series_juz1_2016.values)\n",
    "series_std = np.std(series_juz1_2016.values)\n",
    "upper_bound = center + 1.96 * series_std\n",
    "lower_bound = center - 1.96 * series_std\n",
    "control_juz1_2016 = ControlChart(series_juz1_2016, center, \n",
    "                                 lower_bound, upper_bound)"
   ]
  },
  {
   "cell_type": "code",
   "execution_count": 276,
   "metadata": {},
   "outputs": [
    {
     "data": {
      "image/png": "[encoded data removed]",
      "text/plain": [
       "<Figure size 1080x432 with 1 Axes>"
      ]
     },
     "metadata": {
      "needs_background": "light"
     },
     "output_type": "display_data"
    }
   ],
   "source": [
    "control_juz1_2016.plot(title='Control Chart - Juzgado 01 - 2016',\n",
    "                       xlabel = 'Mes',\n",
    "                       ylabel = 'Porcentaje de causas')"
   ]
  },
  {
   "cell_type": "code",
   "execution_count": 277,
   "metadata": {},
   "outputs": [
    {
     "data": {
      "text/html": [
       "<div>\n",
       "<style scoped>\n",
       "    .dataframe tbody tr th:only-of-type {\n",
       "        vertical-align: middle;\n",
       "    }\n",
       "\n",
       "    .dataframe tbody tr th {\n",
       "        vertical-align: top;\n",
       "    }\n",
       "\n",
       "    .dataframe thead th {\n",
       "        text-align: right;\n",
       "    }\n",
       "</style>\n",
       "<table border=\"1\" class=\"dataframe\">\n",
       "  <thead>\n",
       "    <tr style=\"text-align: right;\">\n",
       "      <th></th>\n",
       "      <th>index</th>\n",
       "      <th>value</th>\n",
       "      <th>sign</th>\n",
       "      <th>size</th>\n",
       "    </tr>\n",
       "  </thead>\n",
       "  <tbody>\n",
       "    <tr>\n",
       "      <td>0</td>\n",
       "      <td>2016-05-31</td>\n",
       "      <td>8.275862</td>\n",
       "      <td>excess</td>\n",
       "      <td>1.05914</td>\n",
       "    </tr>\n",
       "  </tbody>\n",
       "</table>\n",
       "</div>"
      ],
      "text/plain": [
       "       index     value    sign     size\n",
       "0 2016-05-31  8.275862  excess  1.05914"
      ]
     },
     "execution_count": 277,
     "metadata": {},
     "output_type": "execute_result"
    }
   ],
   "source": [
    "control_juz1_2016.deviations()"
   ]
  },
  {
   "cell_type": "markdown",
   "metadata": {},
   "source": [
    "### Pendientes"
   ]
  },
  {
   "cell_type": "markdown",
   "metadata": {},
   "source": [
    "Este mismo procedimiento hacerlo para \"quincenas mensuales\" (como los turnos) y para semanas (como está en tu Excel, Axel). Lo otro que habría que chequear son los cálculos de center, lower bound, upper bound.\n",
    "También se pueden customizar los charts con más amor."
   ]
  }
 ],
 "metadata": {
  "kernelspec": {
   "display_name": "Python 3",
   "language": "python",
   "name": "python3"
  },
  "language_info": {
   "codemirror_mode": {
    "name": "ipython",
    "version": 3
   },
   "file_extension": ".py",
   "mimetype": "text/x-python",
   "name": "python",
   "nbconvert_exporter": "python",
   "pygments_lexer": "ipython3",
   "version": "3.7.4"
  }
 },
 "nbformat": 4,
 "nbformat_minor": 2
}
